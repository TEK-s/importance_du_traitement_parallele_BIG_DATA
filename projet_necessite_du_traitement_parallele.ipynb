{
 "cells": [
  {
   "cell_type": "markdown",
   "id": "166d3c25",
   "metadata": {},
   "source": [
    "#  Montrer la garantie du passage à l’échelle"
   ]
  },
  {
   "cell_type": "code",
   "execution_count": 1,
   "id": "7cad6602",
   "metadata": {},
   "outputs": [],
   "source": [
    "import findspark\n",
    "findspark.init()\n",
    "from pyspark.sql import SparkSession\n",
    "from pyspark.mllib.tree import DecisionTree, DecisionTreeModel\n",
    "from pyspark.ml.feature import VectorAssembler\n",
    "from pyspark.ml.classification import DecisionTreeClassifier\n",
    "from pyspark.ml.tuning import ParamGridBuilder, CrossValidator\n",
    "from pyspark.ml.evaluation import BinaryClassificationEvaluator\n",
    "from pyspark.ml.evaluation import MulticlassClassificationEvaluator\n",
    "from sklearn.metrics import confusion_matrix\n",
    "from pyspark.mllib.evaluation import BinaryClassificationMetrics\n",
    "from time import time\n",
    "import numpy as np\n",
    "#sc.stop()\n",
    "spark = SparkSession.builder\\\n",
    "        .master(\"local[*]\")\\\n",
    "        .appName(\"adult_data\")\\\n",
    "        .getOrCreate()"
   ]
  },
  {
   "cell_type": "code",
   "execution_count": 2,
   "id": "7afd63bd",
   "metadata": {},
   "outputs": [],
   "source": [
    "from pyspark import SparkContext\n",
    "sc = spark.sparkContext.getOrCreate()"
   ]
  },
  {
   "cell_type": "code",
   "execution_count": 3,
   "id": "5d482dd4",
   "metadata": {},
   "outputs": [
    {
     "data": {
      "text/html": [
       "\n",
       "            <div>\n",
       "                <p><b>SparkSession - in-memory</b></p>\n",
       "                \n",
       "        <div>\n",
       "            <p><b>SparkContext</b></p>\n",
       "\n",
       "            <p><a href=\"http://DIM-P4-6600-09.laboratoire.uqac.ca:4040\">Spark UI</a></p>\n",
       "\n",
       "            <dl>\n",
       "              <dt>Version</dt>\n",
       "                <dd><code>v2.4.4</code></dd>\n",
       "              <dt>Master</dt>\n",
       "                <dd><code>local[*]</code></dd>\n",
       "              <dt>AppName</dt>\n",
       "                <dd><code>adult_data</code></dd>\n",
       "            </dl>\n",
       "        </div>\n",
       "        \n",
       "            </div>\n",
       "        "
      ],
      "text/plain": [
       "<pyspark.sql.session.SparkSession at 0x201eb70e828>"
      ]
     },
     "execution_count": 3,
     "metadata": {},
     "output_type": "execute_result"
    }
   ],
   "source": [
    "spark"
   ]
  },
  {
   "cell_type": "code",
   "execution_count": 5,
   "id": "23e5b3fa",
   "metadata": {},
   "outputs": [],
   "source": [
    "path=\"adult1.data\"\n",
    "data = spark.read.csv(path, inferSchema=True)"
   ]
  },
  {
   "cell_type": "code",
   "execution_count": 6,
   "id": "a9c73ec2",
   "metadata": {},
   "outputs": [
    {
     "data": {
      "text/plain": [
       "2565336"
      ]
     },
     "execution_count": 6,
     "metadata": {},
     "output_type": "execute_result"
    }
   ],
   "source": [
    "data=data.sample(0.3)\n",
    "data.count()"
   ]
  },
  {
   "cell_type": "code",
   "execution_count": 7,
   "id": "ec76b7a6",
   "metadata": {},
   "outputs": [
    {
     "name": "stdout",
     "output_type": "stream",
     "text": [
      "root\n",
      " |-- _c0: integer (nullable = true)\n",
      " |-- _c1: string (nullable = true)\n",
      " |-- _c2: double (nullable = true)\n",
      " |-- _c3: string (nullable = true)\n",
      " |-- _c4: double (nullable = true)\n",
      " |-- _c5: string (nullable = true)\n",
      " |-- _c6: string (nullable = true)\n",
      " |-- _c7: string (nullable = true)\n",
      " |-- _c8: string (nullable = true)\n",
      " |-- _c9: string (nullable = true)\n",
      " |-- _c10: double (nullable = true)\n",
      " |-- _c11: double (nullable = true)\n",
      " |-- _c12: double (nullable = true)\n",
      " |-- _c13: string (nullable = true)\n",
      " |-- _c14: string (nullable = true)\n",
      "\n"
     ]
    }
   ],
   "source": [
    "data.printSchema()"
   ]
  },
  {
   "cell_type": "code",
   "execution_count": 8,
   "id": "36b461f5",
   "metadata": {},
   "outputs": [],
   "source": [
    "new_names=[('_c0','age'),('_c1','workclass'),('_c2','fnlwgt'),('_c3','education'),('_c4','education_num'),('_c5','marital_status'),('_c6','occupation'),('_c7','relationship'),('_c8','race'),('_c9','sex'),('_c10','capital_gain'),('_c11','capital_loss'),('_c12','hours_per_week'),('_c13','native_country'),('_c14','classe')]\n",
    "for old_name,new_name in new_names:\n",
    "    data=data.withColumnRenamed(old_name,new_name)"
   ]
  },
  {
   "cell_type": "code",
   "execution_count": 9,
   "id": "0f678f82",
   "metadata": {},
   "outputs": [
    {
     "name": "stdout",
     "output_type": "stream",
     "text": [
      "root\n",
      " |-- age: integer (nullable = true)\n",
      " |-- workclass: string (nullable = true)\n",
      " |-- fnlwgt: double (nullable = true)\n",
      " |-- education: string (nullable = true)\n",
      " |-- education_num: double (nullable = true)\n",
      " |-- marital_status: string (nullable = true)\n",
      " |-- occupation: string (nullable = true)\n",
      " |-- relationship: string (nullable = true)\n",
      " |-- race: string (nullable = true)\n",
      " |-- sex: string (nullable = true)\n",
      " |-- capital_gain: double (nullable = true)\n",
      " |-- capital_loss: double (nullable = true)\n",
      " |-- hours_per_week: double (nullable = true)\n",
      " |-- native_country: string (nullable = true)\n",
      " |-- classe: string (nullable = true)\n",
      "\n"
     ]
    }
   ],
   "source": [
    "data.printSchema()"
   ]
  },
  {
   "cell_type": "code",
   "execution_count": 10,
   "id": "28ab8b66",
   "metadata": {},
   "outputs": [],
   "source": [
    "data=data.drop(\"native_country\")"
   ]
  },
  {
   "cell_type": "code",
   "execution_count": 11,
   "id": "217aaa0b",
   "metadata": {},
   "outputs": [],
   "source": [
    "from pyspark.ml.feature import StringIndexer\n",
    "indexer=StringIndexer().setInputCols([\"workclass\",\"education\",\"marital_status\",\"occupation\",\"relationship\",\"race\",\"sex\",\"classe\"]).setOutputCols([\"workclass_indexed\",\"education_indexed\",\"marital_status_indexed\",\"occupation_indexed\",\"relationship_indexed\",\"race_indexed\",\"sex_indexed\",\"classe_indexed\"])"
   ]
  },
  {
   "cell_type": "code",
   "execution_count": 12,
   "id": "4b769af4",
   "metadata": {},
   "outputs": [],
   "source": [
    "indexed=indexer.fit(data).transform(data)"
   ]
  },
  {
   "cell_type": "code",
   "execution_count": 13,
   "id": "38604432",
   "metadata": {},
   "outputs": [],
   "source": [
    "assembleur = VectorAssembler()\\\n",
    "    .setInputCols(['age','workclass_indexed','fnlwgt','education_indexed','education_num','marital_status_indexed','occupation_indexed','relationship_indexed','race_indexed','sex_indexed'])\\\n",
    "    .setOutputCol(\"features\")"
   ]
  },
  {
   "cell_type": "code",
   "execution_count": 14,
   "id": "cb5d63e6",
   "metadata": {},
   "outputs": [],
   "source": [
    "output=assembleur.transform(indexed)"
   ]
  },
  {
   "cell_type": "code",
   "execution_count": 15,
   "id": "7ee1e847",
   "metadata": {},
   "outputs": [],
   "source": [
    "model_data=output.select(\"features\",\"classe_indexed\")"
   ]
  },
  {
   "cell_type": "code",
   "execution_count": 16,
   "id": "93d87305",
   "metadata": {},
   "outputs": [
    {
     "name": "stdout",
     "output_type": "stream",
     "text": [
      "+--------------------+--------------+\n",
      "|            features|classe_indexed|\n",
      "+--------------------+--------------+\n",
      "|[32.0,0.0,205019....|           0.0|\n",
      "|[32.0,0.0,186824....|           0.0|\n",
      "+--------------------+--------------+\n",
      "only showing top 2 rows\n",
      "\n"
     ]
    }
   ],
   "source": [
    "model_data.show(2)"
   ]
  },
  {
   "cell_type": "markdown",
   "id": "530cdab6",
   "metadata": {},
   "source": [
    "# Résultat de l'expérimentation"
   ]
  },
  {
   "cell_type": "code",
   "execution_count": 17,
   "id": "c2b17408",
   "metadata": {},
   "outputs": [
    {
     "name": "stdout",
     "output_type": "stream",
     "text": [
      "Classifier predict sample 5.0% in 284.878 seconds\n",
      "Classifier predict sample 10.0% in 273.202 seconds\n",
      "Classifier predict sample 15.000000000000002% in 281.397 seconds\n",
      "Classifier predict sample 20.0% in 265.693 seconds\n",
      "Classifier predict sample 25.0% in 275.886 seconds\n",
      "Classifier predict sample 30.0% in 275.695 seconds\n",
      "Classifier predict sample 35.0% in 279.54 seconds\n",
      "Classifier predict sample 40.0% in 283.064 seconds\n",
      "Classifier predict sample 45.0% in 368.933 seconds\n",
      "Classifier predict sample 50.0% in 331.279 seconds\n",
      "Classifier predict sample 55.00000000000001% in 342.574 seconds\n",
      "Classifier predict sample 60.00000000000001% in 354.937 seconds\n",
      "Classifier predict sample 65.00000000000001% in 343.872 seconds\n",
      "Classifier predict sample 70.0% in 348.28 seconds\n",
      "Classifier predict sample 75.00000000000001% in 357.328 seconds\n",
      "Classifier predict sample 80.0% in 367.078 seconds\n",
      "Classifier predict sample 85.00000000000001% in 376.934 seconds\n",
      "Classifier predict sample 90.00000000000001% in 383.415 seconds\n",
      "Classifier predict sample 95.0% in 440.342 seconds\n",
      "Classifier predict sample 100.0% in 446.344 seconds\n"
     ]
    }
   ],
   "source": [
    "time_prediction=[]\n",
    "classifier = DecisionTreeClassifier(labelCol=\"classe_indexed\", featuresCol=\"features\")\n",
    "# add empty parameter grid \n",
    "paramGrid = (ParamGridBuilder()\n",
    "             .addGrid(classifier.maxDepth, [2,5,10,15,20,25]) # max depth parameter \n",
    "             .build())\n",
    "    \n",
    "# create evaluator\n",
    "evaluator = MulticlassClassificationEvaluator(predictionCol=\"prediction\", labelCol=\"classe_indexed\")\n",
    "\n",
    "# create cross validation object\n",
    "crossval = CrossValidator(estimator=classifier,\n",
    "                          estimatorParamMaps=paramGrid,\n",
    "                          evaluator=evaluator,\n",
    "                          numFolds=5) \n",
    "for i in np.arange(0.05,1.05,0.05):\n",
    "    sample=model_data.sample(i,123)\n",
    "    (trainingData, testData) = sample.randomSplit([0.7, 0.3])\n",
    "\n",
    "    t0 = time()\n",
    "    # run cross-validation, and choose the best set of parameters.\n",
    "    Model = crossval.fit(trainingData)\n",
    "    #tt = time() - t0\n",
    "\n",
    "    #print (\"Classifier trained in {} seconds\".format(round(tt,3)))\n",
    "    #t0 = time()\n",
    "\n",
    "    # make predictions on test data \n",
    "    predictions = Model.transform(testData)\n",
    "\n",
    "    tt = time() - t0\n",
    "    time_prediction.append(tt)\n",
    "    b=i*100\n",
    "    print (\"Classifier predict sample {}% in {} seconds\".format(b,round(tt,3)))\n",
    "    #acc = evaluator.evaluate(predictions)\n",
    "    #print(\"Prediction Accuracy: \", predictions)\n",
    "\n",
    "    #y_pred=predictions.select(\"prediction\").collect()\n",
    "    #y_orig=predictions.select(\"classe_indexed\").collect()\n",
    "\n",
    "    #cm = confusion_matrix(y_orig, y_pred)\n",
    "    #print(\"Confusion Matrix:\", cm)\n",
    "    #print('Accuracy:', evaluator.evaluate(predictions))"
   ]
  },
  {
   "cell_type": "code",
   "execution_count": 18,
   "id": "4ec037fc",
   "metadata": {},
   "outputs": [
    {
     "data": {
      "image/png": "[encoded data removed]",
      "text/plain": [
       "<Figure size 432x288 with 1 Axes>"
      ]
     },
     "metadata": {
      "needs_background": "light"
     },
     "output_type": "display_data"
    }
   ],
   "source": [
    "T=[]\n",
    "S=np.array(time_prediction)\n",
    "for i in np.arange(0.05,1.05,0.05):\n",
    "    b=i/0.05\n",
    "    T.append(b)\n",
    "#S=np.array([34.505,33.306,35.846,35.708,38.136,37.237,43.079,40.751,43.77,41.608,45.652,43.326,46.551,46.081,48.126,48.684,50.077,49.924,51.885]) \n",
    "time_prediction=S/min(time_prediction)\n",
    "\n",
    "import matplotlib.pyplot as plt\n",
    "plt.plot(T,T)\n",
    "plt.plot(T,time_prediction)\n",
    "plt.ylabel('some numbers')\n",
    "plt.show()"
   ]
  },
  {
   "cell_type": "code",
   "execution_count": 87,
   "id": "71012197",
   "metadata": {},
   "outputs": [
    {
     "name": "stdout",
     "output_type": "stream",
     "text": [
      "Prediction Accuracy:  DataFrame[features: vector, classe_indexed: double, rawPrediction: vector, probability: vector, prediction: double]\n",
      "Confusion Matrix:\n",
      "[[6271  689]\n",
      " [ 813 1394]]\n",
      "Accuracy: 0.8345067795666556\n"
     ]
    }
   ],
   "source": [
    "acc = evaluator.evaluate(predictions)\n",
    "print(\"Prediction Accuracy: \", predictions)\n",
    "\n",
    "y_pred=predictions.select(\"prediction\").collect()\n",
    "y_orig=predictions.select(\"classe_indexed\").collect()\n",
    "\n",
    "cm = confusion_matrix(y_orig, y_pred)\n",
    "print(\"Confusion Matrix:\")\n",
    "print(cm)\n",
    "print('Accuracy:', evaluator.evaluate(predictions))"
   ]
  },
  {
   "cell_type": "markdown",
   "id": "ac10cfe9",
   "metadata": {},
   "source": [
    "# exprimentation avec 2 coeurs"
   ]
  },
  {
   "cell_type": "code",
   "execution_count": 9,
   "id": "571c5e06",
   "metadata": {},
   "outputs": [],
   "source": [
    "sc.stop()"
   ]
  },
  {
   "cell_type": "code",
   "execution_count": 1,
   "id": "3a95e11b",
   "metadata": {},
   "outputs": [],
   "source": [
    "import findspark\n",
    "findspark.init() \n",
    "from pyspark.sql import SparkSession\n",
    "from pyspark.mllib.tree import DecisionTree, DecisionTreeModel\n",
    "from pyspark.ml.feature import VectorAssembler\n",
    "from pyspark.ml.classification import DecisionTreeClassifier\n",
    "from pyspark.ml.tuning import ParamGridBuilder, CrossValidator\n",
    "from pyspark.ml.evaluation import BinaryClassificationEvaluator\n",
    "from pyspark.ml.evaluation import MulticlassClassificationEvaluator\n",
    "from sklearn.metrics import confusion_matrix\n",
    "from pyspark.mllib.evaluation import BinaryClassificationMetrics\n",
    "from time import time\n",
    "import numpy as np\n",
    "spark = SparkSession.builder\\\n",
    "        .master(\"local[2]\")\\\n",
    "        .appName(\"test_avec_2coeur\")\\\n",
    "        .getOrCreate()"
   ]
  },
  {
   "cell_type": "code",
   "execution_count": 2,
   "id": "37388385",
   "metadata": {},
   "outputs": [],
   "source": [
    "from pyspark import SparkContext\n",
    "sc = spark.sparkContext.getOrCreate()"
   ]
  },
  {
   "cell_type": "code",
   "execution_count": 3,
   "id": "aa2c6ead",
   "metadata": {},
   "outputs": [],
   "source": [
    "from pyspark.ml.feature import StringIndexer\n",
    "path=\"adult2.data\"\n",
    "data = spark.read.csv(path, inferSchema=True)\n",
    "new_names=[('_c0','age'),('_c1','workclass'),('_c2','fnlwgt'),('_c3','education'),('_c4','education_num'),('_c5','marital_status'),('_c6','occupation'),('_c7','relationship'),('_c8','race'),('_c9','sex'),('_c10','capital_gain'),('_c11','capital_loss'),('_c12','hours_per_week'),('_c13','native_country'),('_c14','classe')]\n",
    "for old_name,new_name in new_names:\n",
    "    data=data.withColumnRenamed(old_name,new_name)\n",
    "data=data.drop(\"native_country\")\n",
    "from pyspark.ml.feature import StringIndexer\n",
    "workclass_indexer = StringIndexer().setInputCol(\"workclass\").setOutputCol(\"workclass_indexed\")\n",
    "education_indexer = StringIndexer().setInputCol(\"education\").setOutputCol(\"education_indexed\")\n",
    "marital_status_indexer = StringIndexer().setInputCol(\"marital_status\").setOutputCol(\"marital_status_indexed\")\n",
    "occupation_indexer = StringIndexer().setInputCol(\"occupation\").setOutputCol(\"occupation_indexed\")\n",
    "relationship_indexer = StringIndexer().setInputCol(\"relationship\").setOutputCol(\"relationship_indexed\")\n",
    "race_indexer = StringIndexer().setInputCol(\"race\").setOutputCol(\"race_indexed\")\n",
    "sex_indexer = StringIndexer().setInputCol(\"sex\").setOutputCol(\"sex_indexed\")\n",
    "classe_indexer = StringIndexer().setInputCol(\"classe\").setOutputCol(\"classe_indexed\")\n",
    "\n",
    "numCol = [\"age\",'fnlwgt', 'education_num' ]\n",
    "\n",
    "from pyspark.ml.feature import VectorAssembler\n",
    "\n",
    "assembleur = VectorAssembler()\\\n",
    "    .setInputCols(['workclass_indexed','education_indexed','marital_status_indexed','occupation_indexed','relationship_indexed','race_indexed','sex_indexed'] + numCol)\\\n",
    "    .setOutputCol(\"features\")\n",
    "\n",
    "from pyspark.ml import Pipeline\n",
    "\n",
    "#définition du pipeline\n",
    "transformationPipeline = Pipeline()\\\n",
    "                        .setStages([classe_indexer, sex_indexer, race_indexer, relationship_indexer ,occupation_indexer, marital_status_indexer, education_indexer, workclass_indexer,  assembleur])\n",
    "\n",
    "\n",
    "#la fonction fit pour rencenser les valeurs possibles des index pour chaque variable à partir du dataframe \n",
    "fittedPipeline = transformationPipeline.fit(data)\n",
    "\n",
    "#appliquer les résultats de la fonction fit pour transformer le DataFrame en ajoutnat les nouvelles colonnes.\n",
    "#on obtien une nouvelle dataframe\n",
    "transformedTraining = fittedPipeline.transform(data)\n",
    "model_data=transformedTraining.select(\"features\",\"classe_indexed\")"
   ]
  },
  {
   "cell_type": "code",
   "execution_count": 4,
   "id": "4f5f3920",
   "metadata": {},
   "outputs": [],
   "source": [
    "trainingData=model_data.sample(0.7,123)\n",
    "testData=model_data.sample(0.3,123)"
   ]
  },
  {
   "cell_type": "code",
   "execution_count": 5,
   "id": "c7464e12",
   "metadata": {},
   "outputs": [
    {
     "name": "stdout",
     "output_type": "stream",
     "text": [
      "Prediction Accuracy:  DataFrame[features: vector, classe_indexed: double, rawPrediction: vector, probability: vector, prediction: double]\n",
      "Confusion Matrix:\n",
      "[[6850  626]\n",
      " [ 809 1591]]\n",
      "Accuracy: 0.8526970939481168\n",
      "Classifier trained in 41.718 seconds\n"
     ]
    }
   ],
   "source": [
    "time_prediction=[]\n",
    "classifier = DecisionTreeClassifier(labelCol=\"classe_indexed\", featuresCol=\"features\")\n",
    "# add empty parameter grid \n",
    "paramGrid = (ParamGridBuilder()\n",
    "             .addGrid(classifier.maxDepth, [2,5,10,15,20,25]) # max depth parameter \n",
    "             .build())\n",
    "    \n",
    "# create evaluator\n",
    "evaluator = MulticlassClassificationEvaluator(predictionCol=\"prediction\", labelCol=\"classe_indexed\")\n",
    "\n",
    "# create cross validation object\n",
    "crossval = CrossValidator(estimator=classifier,\n",
    "                          estimatorParamMaps=paramGrid,\n",
    "                          evaluator=evaluator,\n",
    "                          numFolds=5) \n",
    "\n",
    "#model_data=model_data.sample(0.1,123)\n",
    "#(trainingData, testData) = model_data.randomSplit([0.7, 0.3])\n",
    "\n",
    "t0 = time()\n",
    "# run cross-validation, and choose the best set of parameters.\n",
    "Model = crossval.fit(trainingData)\n",
    "# make predictions on test data \n",
    "predictions = Model.transform(testData)\n",
    "tt = time() - t0\n",
    "acc = evaluator.evaluate(predictions)\n",
    "print(\"Prediction Accuracy: \", predictions)\n",
    "\n",
    "y_pred=predictions.select(\"prediction\").collect()\n",
    "y_orig=predictions.select(\"classe_indexed\").collect()\n",
    "\n",
    "cm = confusion_matrix(y_orig, y_pred)\n",
    "print(\"Confusion Matrix:\")\n",
    "print(cm)\n",
    "print('Accuracy:', evaluator.evaluate(predictions))\n",
    "print (\"Classifier trained in {} seconds\".format(round(tt,3)))"
   ]
  },
  {
   "cell_type": "markdown",
   "id": "a5c8bb21",
   "metadata": {},
   "source": [
    "# 4 coeurs"
   ]
  },
  {
   "cell_type": "code",
   "execution_count": 6,
   "id": "7d071b1e",
   "metadata": {},
   "outputs": [],
   "source": [
    "sc.stop()"
   ]
  },
  {
   "cell_type": "code",
   "execution_count": 7,
   "id": "1b2f710d",
   "metadata": {},
   "outputs": [],
   "source": [
    "import findspark\n",
    "findspark.init() \n",
    "from pyspark.sql import SparkSession\n",
    "from pyspark.mllib.tree import DecisionTree, DecisionTreeModel\n",
    "from pyspark.ml.feature import VectorAssembler\n",
    "from pyspark.ml.classification import DecisionTreeClassifier\n",
    "from pyspark.ml.tuning import ParamGridBuilder, CrossValidator\n",
    "from pyspark.ml.evaluation import BinaryClassificationEvaluator\n",
    "from pyspark.ml.evaluation import MulticlassClassificationEvaluator\n",
    "from sklearn.metrics import confusion_matrix\n",
    "from pyspark.mllib.evaluation import BinaryClassificationMetrics\n",
    "from time import time\n",
    "import numpy as np\n",
    "spark = SparkSession.builder\\\n",
    "        .master(\"local[4]\")\\\n",
    "        .appName(\"test_avec_4coeur\")\\\n",
    "        .getOrCreate()"
   ]
  },
  {
   "cell_type": "code",
   "execution_count": 8,
   "id": "27a06c61",
   "metadata": {},
   "outputs": [],
   "source": [
    "from pyspark import SparkContext\n",
    "sc = spark.sparkContext.getOrCreate()"
   ]
  },
  {
   "cell_type": "code",
   "execution_count": 9,
   "id": "0a6dee9c",
   "metadata": {},
   "outputs": [],
   "source": [
    "from pyspark.ml.feature import StringIndexer\n",
    "path=\"adult2.data\"\n",
    "data = spark.read.csv(path, inferSchema=True)\n",
    "new_names=[('_c0','age'),('_c1','workclass'),('_c2','fnlwgt'),('_c3','education'),('_c4','education_num'),('_c5','marital_status'),('_c6','occupation'),('_c7','relationship'),('_c8','race'),('_c9','sex'),('_c10','capital_gain'),('_c11','capital_loss'),('_c12','hours_per_week'),('_c13','native_country'),('_c14','classe')]\n",
    "for old_name,new_name in new_names:\n",
    "    data=data.withColumnRenamed(old_name,new_name)\n",
    "data=data.drop(\"native_country\")\n",
    "from pyspark.ml.feature import StringIndexer\n",
    "workclass_indexer = StringIndexer().setInputCol(\"workclass\").setOutputCol(\"workclass_indexed\")\n",
    "education_indexer = StringIndexer().setInputCol(\"education\").setOutputCol(\"education_indexed\")\n",
    "marital_status_indexer = StringIndexer().setInputCol(\"marital_status\").setOutputCol(\"marital_status_indexed\")\n",
    "occupation_indexer = StringIndexer().setInputCol(\"occupation\").setOutputCol(\"occupation_indexed\")\n",
    "relationship_indexer = StringIndexer().setInputCol(\"relationship\").setOutputCol(\"relationship_indexed\")\n",
    "race_indexer = StringIndexer().setInputCol(\"race\").setOutputCol(\"race_indexed\")\n",
    "sex_indexer = StringIndexer().setInputCol(\"sex\").setOutputCol(\"sex_indexed\")\n",
    "classe_indexer = StringIndexer().setInputCol(\"classe\").setOutputCol(\"classe_indexed\")\n",
    "\n",
    "numCol = [\"age\",'fnlwgt', 'education_num' ]\n",
    "\n",
    "from pyspark.ml.feature import VectorAssembler\n",
    "\n",
    "assembleur = VectorAssembler()\\\n",
    "    .setInputCols(['workclass_indexed','education_indexed','marital_status_indexed','occupation_indexed','relationship_indexed','race_indexed','sex_indexed'] + numCol)\\\n",
    "    .setOutputCol(\"features\")\n",
    "\n",
    "from pyspark.ml import Pipeline\n",
    "\n",
    "#définition du pipeline\n",
    "transformationPipeline = Pipeline()\\\n",
    "                        .setStages([classe_indexer, sex_indexer, race_indexer, relationship_indexer ,occupation_indexer, marital_status_indexer, education_indexer, workclass_indexer,  assembleur])\n",
    "\n",
    "\n",
    "#la fonction fit pour rencenser les valeurs possibles des index pour chaque variable à partir du dataframe \n",
    "fittedPipeline = transformationPipeline.fit(data)\n",
    "\n",
    "#appliquer les résultats de la fonction fit pour transformer le DataFrame en ajoutnat les nouvelles colonnes.\n",
    "#on obtien une nouvelle dataframe\n",
    "transformedTraining = fittedPipeline.transform(data)\n",
    "model_data=transformedTraining.select(\"features\",\"classe_indexed\")"
   ]
  },
  {
   "cell_type": "code",
   "execution_count": 10,
   "id": "202b8a5e",
   "metadata": {},
   "outputs": [],
   "source": [
    "trainingData=model_data.sample(0.7,123)\n",
    "testData=model_data.sample(0.3,123)"
   ]
  },
  {
   "cell_type": "code",
   "execution_count": 11,
   "id": "b3f5f3b3",
   "metadata": {},
   "outputs": [
    {
     "name": "stdout",
     "output_type": "stream",
     "text": [
      "Prediction Accuracy:  DataFrame[features: vector, classe_indexed: double, rawPrediction: vector, probability: vector, prediction: double]\n",
      "Confusion Matrix:\n",
      "[[6850  626]\n",
      " [ 809 1591]]\n",
      "Accuracy: 0.8526970939481168\n",
      "Classifier trained in 40.095 seconds\n"
     ]
    }
   ],
   "source": [
    "time_prediction=[]\n",
    "classifier = DecisionTreeClassifier(labelCol=\"classe_indexed\", featuresCol=\"features\")\n",
    "# add empty parameter grid \n",
    "paramGrid = (ParamGridBuilder()\n",
    "             .addGrid(classifier.maxDepth, [2,5,10,15,20,25]) # max depth parameter \n",
    "             .build())\n",
    "    \n",
    "# create evaluator\n",
    "evaluator = MulticlassClassificationEvaluator(predictionCol=\"prediction\", labelCol=\"classe_indexed\")\n",
    "\n",
    "# create cross validation object\n",
    "crossval = CrossValidator(estimator=classifier,\n",
    "                          estimatorParamMaps=paramGrid,\n",
    "                          evaluator=evaluator,\n",
    "                          numFolds=5) \n",
    "\n",
    "#model_data=model_data.sample(0.1,123)\n",
    "#(trainingData, testData) = model_data.randomSplit([0.7, 0.3])\n",
    "\n",
    "t0 = time()\n",
    "# run cross-validation, and choose the best set of parameters.\n",
    "Model = crossval.fit(trainingData)\n",
    "# make predictions on test data \n",
    "predictions = Model.transform(testData)\n",
    "tt = time() - t0\n",
    "acc = evaluator.evaluate(predictions)\n",
    "print(\"Prediction Accuracy: \", predictions)\n",
    "\n",
    "y_pred=predictions.select(\"prediction\").collect()\n",
    "y_orig=predictions.select(\"classe_indexed\").collect()\n",
    "\n",
    "cm = confusion_matrix(y_orig, y_pred)\n",
    "print(\"Confusion Matrix:\")\n",
    "print(cm)\n",
    "print('Accuracy:', evaluator.evaluate(predictions))\n",
    "print (\"Classifier trained in {} seconds\".format(round(tt,3)))"
   ]
  },
  {
   "cell_type": "markdown",
   "id": "fce384da",
   "metadata": {},
   "source": [
    "# 6 coeurs"
   ]
  },
  {
   "cell_type": "code",
   "execution_count": 12,
   "id": "6adeef8c",
   "metadata": {},
   "outputs": [],
   "source": [
    "sc.stop()"
   ]
  },
  {
   "cell_type": "code",
   "execution_count": 13,
   "id": "44356865",
   "metadata": {},
   "outputs": [],
   "source": [
    "import findspark\n",
    "findspark.init() \n",
    "from pyspark.sql import SparkSession\n",
    "from pyspark.mllib.tree import DecisionTree, DecisionTreeModel\n",
    "from pyspark.ml.feature import VectorAssembler\n",
    "from pyspark.ml.classification import DecisionTreeClassifier\n",
    "from pyspark.ml.tuning import ParamGridBuilder, CrossValidator\n",
    "from pyspark.ml.evaluation import BinaryClassificationEvaluator\n",
    "from pyspark.ml.evaluation import MulticlassClassificationEvaluator\n",
    "from sklearn.metrics import confusion_matrix\n",
    "from pyspark.mllib.evaluation import BinaryClassificationMetrics\n",
    "from time import time\n",
    "import numpy as np\n",
    "spark = SparkSession.builder\\\n",
    "        .master(\"local[6]\")\\\n",
    "        .appName(\"test_avec_6coeur\")\\\n",
    "        .getOrCreate()\n",
    "\n",
    "from pyspark import SparkContext\n",
    "sc = spark.sparkContext.getOrCreate()\n",
    "\n",
    "from pyspark.ml.feature import StringIndexer\n",
    "path=\"adult2.data\"\n",
    "data = spark.read.csv(path, inferSchema=True)\n",
    "new_names=[('_c0','age'),('_c1','workclass'),('_c2','fnlwgt'),('_c3','education'),('_c4','education_num'),('_c5','marital_status'),('_c6','occupation'),('_c7','relationship'),('_c8','race'),('_c9','sex'),('_c10','capital_gain'),('_c11','capital_loss'),('_c12','hours_per_week'),('_c13','native_country'),('_c14','classe')]\n",
    "for old_name,new_name in new_names:\n",
    "    data=data.withColumnRenamed(old_name,new_name)\n",
    "data=data.drop(\"native_country\")\n",
    "from pyspark.ml.feature import StringIndexer\n",
    "workclass_indexer = StringIndexer().setInputCol(\"workclass\").setOutputCol(\"workclass_indexed\")\n",
    "education_indexer = StringIndexer().setInputCol(\"education\").setOutputCol(\"education_indexed\")\n",
    "marital_status_indexer = StringIndexer().setInputCol(\"marital_status\").setOutputCol(\"marital_status_indexed\")\n",
    "occupation_indexer = StringIndexer().setInputCol(\"occupation\").setOutputCol(\"occupation_indexed\")\n",
    "relationship_indexer = StringIndexer().setInputCol(\"relationship\").setOutputCol(\"relationship_indexed\")\n",
    "race_indexer = StringIndexer().setInputCol(\"race\").setOutputCol(\"race_indexed\")\n",
    "sex_indexer = StringIndexer().setInputCol(\"sex\").setOutputCol(\"sex_indexed\")\n",
    "classe_indexer = StringIndexer().setInputCol(\"classe\").setOutputCol(\"classe_indexed\")\n",
    "\n",
    "numCol = [\"age\",'fnlwgt', 'education_num' ]\n",
    "\n",
    "from pyspark.ml.feature import VectorAssembler\n",
    "\n",
    "assembleur = VectorAssembler()\\\n",
    "    .setInputCols(['workclass_indexed','education_indexed','marital_status_indexed','occupation_indexed','relationship_indexed','race_indexed','sex_indexed'] + numCol)\\\n",
    "    .setOutputCol(\"features\")\n",
    "\n",
    "from pyspark.ml import Pipeline\n",
    "\n",
    "#définition du pipeline\n",
    "transformationPipeline = Pipeline()\\\n",
    "                        .setStages([classe_indexer, sex_indexer, race_indexer, relationship_indexer ,occupation_indexer, marital_status_indexer, education_indexer, workclass_indexer,  assembleur])\n",
    "\n",
    "\n",
    "#la fonction fit pour rencenser les valeurs possibles des index pour chaque variable à partir du dataframe \n",
    "fittedPipeline = transformationPipeline.fit(data)\n",
    "\n",
    "#appliquer les résultats de la fonction fit pour transformer le DataFrame en ajoutnat les nouvelles colonnes.\n",
    "#on obtien une nouvelle dataframe\n",
    "transformedTraining = fittedPipeline.transform(data)\n",
    "model_data=transformedTraining.select(\"features\",\"classe_indexed\")"
   ]
  },
  {
   "cell_type": "code",
   "execution_count": 14,
   "id": "fd50952b",
   "metadata": {},
   "outputs": [],
   "source": [
    "trainingData=model_data.sample(0.7,123)\n",
    "testData=model_data.sample(0.3,123)"
   ]
  },
  {
   "cell_type": "code",
   "execution_count": 15,
   "id": "3f9f4b93",
   "metadata": {},
   "outputs": [
    {
     "name": "stdout",
     "output_type": "stream",
     "text": [
      "Prediction Accuracy:  DataFrame[features: vector, classe_indexed: double, rawPrediction: vector, probability: vector, prediction: double]\n",
      "Confusion Matrix:\n",
      "[[6850  626]\n",
      " [ 809 1591]]\n",
      "Accuracy: 0.8526970939481168\n",
      "Classifier trained in 39.699 seconds\n"
     ]
    }
   ],
   "source": [
    "time_prediction=[]\n",
    "classifier = DecisionTreeClassifier(labelCol=\"classe_indexed\", featuresCol=\"features\")\n",
    "# add empty parameter grid \n",
    "paramGrid = (ParamGridBuilder()\n",
    "             .addGrid(classifier.maxDepth, [2,5,10,15,20,25]) # max depth parameter \n",
    "             .build())\n",
    "    \n",
    "# create evaluator\n",
    "evaluator = MulticlassClassificationEvaluator(predictionCol=\"prediction\", labelCol=\"classe_indexed\")\n",
    "\n",
    "# create cross validation object\n",
    "crossval = CrossValidator(estimator=classifier,\n",
    "                          estimatorParamMaps=paramGrid,\n",
    "                          evaluator=evaluator,\n",
    "                          numFolds=5) \n",
    "\n",
    "#model_data=model_data.sample(0.1,123)\n",
    "#(trainingData, testData) = model_data.randomSplit([0.7, 0.3])\n",
    "\n",
    "t0 = time()\n",
    "# run cross-validation, and choose the best set of parameters.\n",
    "Model = crossval.fit(trainingData)\n",
    "# make predictions on test data \n",
    "predictions = Model.transform(testData)\n",
    "tt = time() - t0\n",
    "acc = evaluator.evaluate(predictions)\n",
    "print(\"Prediction Accuracy: \", predictions)\n",
    "\n",
    "y_pred=predictions.select(\"prediction\").collect()\n",
    "y_orig=predictions.select(\"classe_indexed\").collect()\n",
    "\n",
    "cm = confusion_matrix(y_orig, y_pred)\n",
    "print(\"Confusion Matrix:\")\n",
    "print(cm)\n",
    "print('Accuracy:', evaluator.evaluate(predictions))\n",
    "print (\"Classifier trained in {} seconds\".format(round(tt,3)))"
   ]
  },
  {
   "cell_type": "markdown",
   "id": "7aec34a2",
   "metadata": {},
   "source": [
    "# 8 coeurs"
   ]
  },
  {
   "cell_type": "code",
   "execution_count": 16,
   "id": "a993f002",
   "metadata": {},
   "outputs": [],
   "source": [
    "sc.stop()"
   ]
  },
  {
   "cell_type": "code",
   "execution_count": 17,
   "id": "090c3566",
   "metadata": {},
   "outputs": [],
   "source": [
    "import findspark\n",
    "findspark.init() \n",
    "from pyspark.sql import SparkSession\n",
    "from pyspark.mllib.tree import DecisionTree, DecisionTreeModel\n",
    "from pyspark.ml.feature import VectorAssembler\n",
    "from pyspark.ml.classification import DecisionTreeClassifier\n",
    "from pyspark.ml.tuning import ParamGridBuilder, CrossValidator\n",
    "from pyspark.ml.evaluation import BinaryClassificationEvaluator\n",
    "from pyspark.ml.evaluation import MulticlassClassificationEvaluator\n",
    "from sklearn.metrics import confusion_matrix\n",
    "from pyspark.mllib.evaluation import BinaryClassificationMetrics\n",
    "from time import time\n",
    "import numpy as np\n",
    "spark = SparkSession.builder\\\n",
    "        .master(\"local[8]\")\\\n",
    "        .appName(\"test_avec_8coeur\")\\\n",
    "        .getOrCreate()\n",
    "\n",
    "from pyspark import SparkContext\n",
    "sc = spark.sparkContext.getOrCreate()\n",
    "\n",
    "from pyspark.ml.feature import StringIndexer\n",
    "path=\"adult2.data\"\n",
    "data = spark.read.csv(path, inferSchema=True)\n",
    "new_names=[('_c0','age'),('_c1','workclass'),('_c2','fnlwgt'),('_c3','education'),('_c4','education_num'),('_c5','marital_status'),('_c6','occupation'),('_c7','relationship'),('_c8','race'),('_c9','sex'),('_c10','capital_gain'),('_c11','capital_loss'),('_c12','hours_per_week'),('_c13','native_country'),('_c14','classe')]\n",
    "for old_name,new_name in new_names:\n",
    "    data=data.withColumnRenamed(old_name,new_name)\n",
    "data=data.drop(\"native_country\")\n",
    "from pyspark.ml.feature import StringIndexer\n",
    "workclass_indexer = StringIndexer().setInputCol(\"workclass\").setOutputCol(\"workclass_indexed\")\n",
    "education_indexer = StringIndexer().setInputCol(\"education\").setOutputCol(\"education_indexed\")\n",
    "marital_status_indexer = StringIndexer().setInputCol(\"marital_status\").setOutputCol(\"marital_status_indexed\")\n",
    "occupation_indexer = StringIndexer().setInputCol(\"occupation\").setOutputCol(\"occupation_indexed\")\n",
    "relationship_indexer = StringIndexer().setInputCol(\"relationship\").setOutputCol(\"relationship_indexed\")\n",
    "race_indexer = StringIndexer().setInputCol(\"race\").setOutputCol(\"race_indexed\")\n",
    "sex_indexer = StringIndexer().setInputCol(\"sex\").setOutputCol(\"sex_indexed\")\n",
    "classe_indexer = StringIndexer().setInputCol(\"classe\").setOutputCol(\"classe_indexed\")\n",
    "\n",
    "numCol = [\"age\",'fnlwgt', 'education_num' ]\n",
    "\n",
    "from pyspark.ml.feature import VectorAssembler\n",
    "\n",
    "assembleur = VectorAssembler()\\\n",
    "    .setInputCols(['workclass_indexed','education_indexed','marital_status_indexed','occupation_indexed','relationship_indexed','race_indexed','sex_indexed'] + numCol)\\\n",
    "    .setOutputCol(\"features\")\n",
    "\n",
    "from pyspark.ml import Pipeline\n",
    "\n",
    "#définition du pipeline\n",
    "transformationPipeline = Pipeline()\\\n",
    "                        .setStages([classe_indexer, sex_indexer, race_indexer, relationship_indexer ,occupation_indexer, marital_status_indexer, education_indexer, workclass_indexer,  assembleur])\n",
    "\n",
    "\n",
    "#la fonction fit pour rencenser les valeurs possibles des index pour chaque variable à partir du dataframe \n",
    "fittedPipeline = transformationPipeline.fit(data)\n",
    "\n",
    "#appliquer les résultats de la fonction fit pour transformer le DataFrame en ajoutnat les nouvelles colonnes.\n",
    "#on obtien une nouvelle dataframe\n",
    "transformedTraining = fittedPipeline.transform(data)\n",
    "model_data=transformedTraining.select(\"features\",\"classe_indexed\")"
   ]
  },
  {
   "cell_type": "code",
   "execution_count": 18,
   "id": "1a0c1edc",
   "metadata": {},
   "outputs": [],
   "source": [
    "trainingData=model_data.sample(0.7,123)\n",
    "testData=model_data.sample(0.3,123)"
   ]
  },
  {
   "cell_type": "code",
   "execution_count": 19,
   "id": "c20480d3",
   "metadata": {},
   "outputs": [
    {
     "name": "stdout",
     "output_type": "stream",
     "text": [
      "Prediction Accuracy:  DataFrame[features: vector, classe_indexed: double, rawPrediction: vector, probability: vector, prediction: double]\n",
      "Confusion Matrix:\n",
      "[[6850  626]\n",
      " [ 809 1591]]\n",
      "Accuracy: 0.8526970939481168\n",
      "Classifier trained in 39.579 seconds\n"
     ]
    }
   ],
   "source": [
    "time_prediction=[]\n",
    "classifier = DecisionTreeClassifier(labelCol=\"classe_indexed\", featuresCol=\"features\")\n",
    "# add empty parameter grid \n",
    "paramGrid = (ParamGridBuilder()\n",
    "             .addGrid(classifier.maxDepth, [2,5,10,15,20,25]) # max depth parameter \n",
    "             .build())\n",
    "    \n",
    "# create evaluator\n",
    "evaluator = MulticlassClassificationEvaluator(predictionCol=\"prediction\", labelCol=\"classe_indexed\")\n",
    "\n",
    "# create cross validation object\n",
    "crossval = CrossValidator(estimator=classifier,\n",
    "                          estimatorParamMaps=paramGrid,\n",
    "                          evaluator=evaluator,\n",
    "                          numFolds=5) \n",
    "\n",
    "#model_data=model_data.sample(0.1,123)\n",
    "#(trainingData, testData) = model_data.randomSplit([0.7, 0.3])\n",
    "\n",
    "t0 = time()\n",
    "# run cross-validation, and choose the best set of parameters.\n",
    "Model = crossval.fit(trainingData)\n",
    "# make predictions on test data \n",
    "predictions = Model.transform(testData)\n",
    "tt = time() - t0\n",
    "acc = evaluator.evaluate(predictions)\n",
    "print(\"Prediction Accuracy: \", predictions)\n",
    "\n",
    "y_pred=predictions.select(\"prediction\").collect()\n",
    "y_orig=predictions.select(\"classe_indexed\").collect()\n",
    "\n",
    "cm = confusion_matrix(y_orig, y_pred)\n",
    "print(\"Confusion Matrix:\")\n",
    "print(cm)\n",
    "print('Accuracy:', evaluator.evaluate(predictions))\n",
    "print (\"Classifier trained in {} seconds\".format(round(tt,3)))"
   ]
  },
  {
   "cell_type": "markdown",
   "id": "f74d984d",
   "metadata": {},
   "source": [
    "# 10 coeurs"
   ]
  },
  {
   "cell_type": "code",
   "execution_count": 20,
   "id": "48982dbb",
   "metadata": {},
   "outputs": [],
   "source": [
    "sc.stop()"
   ]
  },
  {
   "cell_type": "code",
   "execution_count": 21,
   "id": "6bbab27d",
   "metadata": {},
   "outputs": [],
   "source": [
    "import findspark\n",
    "findspark.init() \n",
    "from pyspark.sql import SparkSession\n",
    "from pyspark.mllib.tree import DecisionTree, DecisionTreeModel\n",
    "from pyspark.ml.feature import VectorAssembler\n",
    "from pyspark.ml.classification import DecisionTreeClassifier\n",
    "from pyspark.ml.tuning import ParamGridBuilder, CrossValidator\n",
    "from pyspark.ml.evaluation import BinaryClassificationEvaluator\n",
    "from pyspark.ml.evaluation import MulticlassClassificationEvaluator\n",
    "from sklearn.metrics import confusion_matrix\n",
    "from pyspark.mllib.evaluation import BinaryClassificationMetrics\n",
    "from time import time\n",
    "import numpy as np\n",
    "spark = SparkSession.builder\\\n",
    "        .master(\"local[10]\")\\\n",
    "        .appName(\"test_avec_10coeur\")\\\n",
    "        .getOrCreate()\n",
    "\n",
    "from pyspark import SparkContext\n",
    "sc = spark.sparkContext.getOrCreate()\n",
    "\n",
    "from pyspark.ml.feature import StringIndexer\n",
    "path=\"adult2.data\"\n",
    "data = spark.read.csv(path, inferSchema=True)\n",
    "new_names=[('_c0','age'),('_c1','workclass'),('_c2','fnlwgt'),('_c3','education'),('_c4','education_num'),('_c5','marital_status'),('_c6','occupation'),('_c7','relationship'),('_c8','race'),('_c9','sex'),('_c10','capital_gain'),('_c11','capital_loss'),('_c12','hours_per_week'),('_c13','native_country'),('_c14','classe')]\n",
    "for old_name,new_name in new_names:\n",
    "    data=data.withColumnRenamed(old_name,new_name)\n",
    "data=data.drop(\"native_country\")\n",
    "from pyspark.ml.feature import StringIndexer\n",
    "workclass_indexer = StringIndexer().setInputCol(\"workclass\").setOutputCol(\"workclass_indexed\")\n",
    "education_indexer = StringIndexer().setInputCol(\"education\").setOutputCol(\"education_indexed\")\n",
    "marital_status_indexer = StringIndexer().setInputCol(\"marital_status\").setOutputCol(\"marital_status_indexed\")\n",
    "occupation_indexer = StringIndexer().setInputCol(\"occupation\").setOutputCol(\"occupation_indexed\")\n",
    "relationship_indexer = StringIndexer().setInputCol(\"relationship\").setOutputCol(\"relationship_indexed\")\n",
    "race_indexer = StringIndexer().setInputCol(\"race\").setOutputCol(\"race_indexed\")\n",
    "sex_indexer = StringIndexer().setInputCol(\"sex\").setOutputCol(\"sex_indexed\")\n",
    "classe_indexer = StringIndexer().setInputCol(\"classe\").setOutputCol(\"classe_indexed\")\n",
    "\n",
    "numCol = [\"age\",'fnlwgt', 'education_num' ]\n",
    "\n",
    "from pyspark.ml.feature import VectorAssembler\n",
    "\n",
    "assembleur = VectorAssembler()\\\n",
    "    .setInputCols(['workclass_indexed','education_indexed','marital_status_indexed','occupation_indexed','relationship_indexed','race_indexed','sex_indexed'] + numCol)\\\n",
    "    .setOutputCol(\"features\")\n",
    "\n",
    "from pyspark.ml import Pipeline\n",
    "\n",
    "#définition du pipeline\n",
    "transformationPipeline = Pipeline()\\\n",
    "                        .setStages([classe_indexer, sex_indexer, race_indexer, relationship_indexer ,occupation_indexer, marital_status_indexer, education_indexer, workclass_indexer,  assembleur])\n",
    "\n",
    "\n",
    "#la fonction fit pour rencenser les valeurs possibles des index pour chaque variable à partir du dataframe \n",
    "fittedPipeline = transformationPipeline.fit(data)\n",
    "\n",
    "#appliquer les résultats de la fonction fit pour transformer le DataFrame en ajoutnat les nouvelles colonnes.\n",
    "#on obtien une nouvelle dataframe\n",
    "transformedTraining = fittedPipeline.transform(data)\n",
    "model_data=transformedTraining.select(\"features\",\"classe_indexed\")"
   ]
  },
  {
   "cell_type": "code",
   "execution_count": 22,
   "id": "dfb21918",
   "metadata": {},
   "outputs": [],
   "source": [
    "trainingData=model_data.sample(0.7,123)\n",
    "testData=model_data.sample(0.3,123)"
   ]
  },
  {
   "cell_type": "code",
   "execution_count": 23,
   "id": "8d1f5733",
   "metadata": {},
   "outputs": [
    {
     "name": "stdout",
     "output_type": "stream",
     "text": [
      "Prediction Accuracy:  DataFrame[features: vector, classe_indexed: double, rawPrediction: vector, probability: vector, prediction: double]\n",
      "Confusion Matrix:\n",
      "[[6850  626]\n",
      " [ 809 1591]]\n",
      "Accuracy: 0.8526970939481168\n",
      "Classifier trained in 39.465 seconds\n"
     ]
    }
   ],
   "source": [
    "time_prediction=[]\n",
    "classifier = DecisionTreeClassifier(labelCol=\"classe_indexed\", featuresCol=\"features\")\n",
    "# add empty parameter grid \n",
    "paramGrid = (ParamGridBuilder()\n",
    "             .addGrid(classifier.maxDepth, [2,5,10,15,20,25]) # max depth parameter \n",
    "             .build())\n",
    "    \n",
    "# create evaluator\n",
    "evaluator = MulticlassClassificationEvaluator(predictionCol=\"prediction\", labelCol=\"classe_indexed\")\n",
    "\n",
    "# create cross validation object\n",
    "crossval = CrossValidator(estimator=classifier,\n",
    "                          estimatorParamMaps=paramGrid,\n",
    "                          evaluator=evaluator,\n",
    "                          numFolds=5) \n",
    "\n",
    "#model_data=model_data.sample(0.1,123)\n",
    "#(trainingData, testData) = model_data.randomSplit([0.7, 0.3])\n",
    "\n",
    "t0 = time()\n",
    "# run cross-validation, and choose the best set of parameters.\n",
    "Model = crossval.fit(trainingData)\n",
    "# make predictions on test data \n",
    "predictions = Model.transform(testData)\n",
    "tt = time() - t0\n",
    "acc = evaluator.evaluate(predictions)\n",
    "print(\"Prediction Accuracy: \", predictions)\n",
    "\n",
    "y_pred=predictions.select(\"prediction\").collect()\n",
    "y_orig=predictions.select(\"classe_indexed\").collect()\n",
    "\n",
    "cm = confusion_matrix(y_orig, y_pred)\n",
    "print(\"Confusion Matrix:\")\n",
    "print(cm)\n",
    "print('Accuracy:', evaluator.evaluate(predictions))\n",
    "print (\"Classifier trained in {} seconds\".format(round(tt,3)))"
   ]
  },
  {
   "cell_type": "markdown",
   "id": "3a5fda43",
   "metadata": {},
   "source": [
    "# 12 coeurs"
   ]
  },
  {
   "cell_type": "code",
   "execution_count": 24,
   "id": "8628601f",
   "metadata": {},
   "outputs": [],
   "source": [
    "sc.stop()"
   ]
  },
  {
   "cell_type": "code",
   "execution_count": 25,
   "id": "5dceea77",
   "metadata": {},
   "outputs": [],
   "source": [
    "import findspark\n",
    "findspark.init() \n",
    "from pyspark.sql import SparkSession\n",
    "from pyspark.mllib.tree import DecisionTree, DecisionTreeModel\n",
    "from pyspark.ml.feature import VectorAssembler\n",
    "from pyspark.ml.classification import DecisionTreeClassifier\n",
    "from pyspark.ml.tuning import ParamGridBuilder, CrossValidator\n",
    "from pyspark.ml.evaluation import BinaryClassificationEvaluator\n",
    "from pyspark.ml.evaluation import MulticlassClassificationEvaluator\n",
    "from sklearn.metrics import confusion_matrix\n",
    "from pyspark.mllib.evaluation import BinaryClassificationMetrics\n",
    "from time import time\n",
    "import numpy as np\n",
    "spark = SparkSession.builder\\\n",
    "        .master(\"local[12]\")\\\n",
    "        .appName(\"test_avec_12coeur\")\\\n",
    "        .getOrCreate()\n",
    "\n",
    "from pyspark import SparkContext\n",
    "sc = spark.sparkContext.getOrCreate()\n",
    "\n",
    "from pyspark.ml.feature import StringIndexer\n",
    "path=\"adult2.data\"\n",
    "data = spark.read.csv(path, inferSchema=True)\n",
    "new_names=[('_c0','age'),('_c1','workclass'),('_c2','fnlwgt'),('_c3','education'),('_c4','education_num'),('_c5','marital_status'),('_c6','occupation'),('_c7','relationship'),('_c8','race'),('_c9','sex'),('_c10','capital_gain'),('_c11','capital_loss'),('_c12','hours_per_week'),('_c13','native_country'),('_c14','classe')]\n",
    "for old_name,new_name in new_names:\n",
    "    data=data.withColumnRenamed(old_name,new_name)\n",
    "data=data.drop(\"native_country\")\n",
    "from pyspark.ml.feature import StringIndexer\n",
    "workclass_indexer = StringIndexer().setInputCol(\"workclass\").setOutputCol(\"workclass_indexed\")\n",
    "education_indexer = StringIndexer().setInputCol(\"education\").setOutputCol(\"education_indexed\")\n",
    "marital_status_indexer = StringIndexer().setInputCol(\"marital_status\").setOutputCol(\"marital_status_indexed\")\n",
    "occupation_indexer = StringIndexer().setInputCol(\"occupation\").setOutputCol(\"occupation_indexed\")\n",
    "relationship_indexer = StringIndexer().setInputCol(\"relationship\").setOutputCol(\"relationship_indexed\")\n",
    "race_indexer = StringIndexer().setInputCol(\"race\").setOutputCol(\"race_indexed\")\n",
    "sex_indexer = StringIndexer().setInputCol(\"sex\").setOutputCol(\"sex_indexed\")\n",
    "classe_indexer = StringIndexer().setInputCol(\"classe\").setOutputCol(\"classe_indexed\")\n",
    "\n",
    "numCol = [\"age\",'fnlwgt', 'education_num' ]\n",
    "\n",
    "from pyspark.ml.feature import VectorAssembler\n",
    "\n",
    "assembleur = VectorAssembler()\\\n",
    "    .setInputCols(['workclass_indexed','education_indexed','marital_status_indexed','occupation_indexed','relationship_indexed','race_indexed','sex_indexed'] + numCol)\\\n",
    "    .setOutputCol(\"features\")\n",
    "\n",
    "from pyspark.ml import Pipeline\n",
    "\n",
    "#définition du pipeline\n",
    "transformationPipeline = Pipeline()\\\n",
    "                        .setStages([classe_indexer, sex_indexer, race_indexer, relationship_indexer ,occupation_indexer, marital_status_indexer, education_indexer, workclass_indexer,  assembleur])\n",
    "\n",
    "\n",
    "#la fonction fit pour rencenser les valeurs possibles des index pour chaque variable à partir du dataframe \n",
    "fittedPipeline = transformationPipeline.fit(data)\n",
    "\n",
    "#appliquer les résultats de la fonction fit pour transformer le DataFrame en ajoutnat les nouvelles colonnes.\n",
    "#on obtien une nouvelle dataframe\n",
    "transformedTraining = fittedPipeline.transform(data)\n",
    "model_data=transformedTraining.select(\"features\",\"classe_indexed\")"
   ]
  },
  {
   "cell_type": "code",
   "execution_count": 26,
   "id": "7b704b04",
   "metadata": {},
   "outputs": [],
   "source": [
    "trainingData=model_data.sample(0.7,123)\n",
    "testData=model_data.sample(0.3,123)"
   ]
  },
  {
   "cell_type": "code",
   "execution_count": 27,
   "id": "675184a1",
   "metadata": {},
   "outputs": [
    {
     "name": "stdout",
     "output_type": "stream",
     "text": [
      "Prediction Accuracy:  DataFrame[features: vector, classe_indexed: double, rawPrediction: vector, probability: vector, prediction: double]\n",
      "Confusion Matrix:\n",
      "[[6850  626]\n",
      " [ 809 1591]]\n",
      "Accuracy: 0.8526970939481168\n",
      "Classifier trained in 39.424 seconds\n"
     ]
    }
   ],
   "source": [
    "time_prediction=[]\n",
    "classifier = DecisionTreeClassifier(labelCol=\"classe_indexed\", featuresCol=\"features\")\n",
    "# add empty parameter grid \n",
    "paramGrid = (ParamGridBuilder()\n",
    "             .addGrid(classifier.maxDepth, [2,5,10,15,20,25]) # max depth parameter \n",
    "             .build())\n",
    "    \n",
    "# create evaluator\n",
    "evaluator = MulticlassClassificationEvaluator(predictionCol=\"prediction\", labelCol=\"classe_indexed\")\n",
    "\n",
    "# create cross validation object\n",
    "crossval = CrossValidator(estimator=classifier,\n",
    "                          estimatorParamMaps=paramGrid,\n",
    "                          evaluator=evaluator,\n",
    "                          numFolds=5) \n",
    "\n",
    "#model_data=model_data.sample(0.1,123)\n",
    "#(trainingData, testData) = model_data.randomSplit([0.7, 0.3])\n",
    "\n",
    "t0 = time()\n",
    "# run cross-validation, and choose the best set of parameters.\n",
    "Model = crossval.fit(trainingData)\n",
    "# make predictions on test data \n",
    "predictions = Model.transform(testData)\n",
    "tt = time() - t0\n",
    "acc = evaluator.evaluate(predictions)\n",
    "print(\"Prediction Accuracy: \", predictions)\n",
    "\n",
    "y_pred=predictions.select(\"prediction\").collect()\n",
    "y_orig=predictions.select(\"classe_indexed\").collect()\n",
    "\n",
    "cm = confusion_matrix(y_orig, y_pred)\n",
    "print(\"Confusion Matrix:\")\n",
    "print(cm)\n",
    "print('Accuracy:', evaluator.evaluate(predictions))\n",
    "print (\"Classifier trained in {} seconds\".format(round(tt,3)))"
   ]
  },
  {
   "cell_type": "markdown",
   "id": "08389268",
   "metadata": {},
   "source": [
    "# 14 coeurs"
   ]
  },
  {
   "cell_type": "code",
   "execution_count": 28,
   "id": "c75ef4b4",
   "metadata": {},
   "outputs": [],
   "source": [
    "sc.stop()"
   ]
  },
  {
   "cell_type": "code",
   "execution_count": 29,
   "id": "4b9284da",
   "metadata": {},
   "outputs": [],
   "source": [
    "import findspark\n",
    "findspark.init() \n",
    "from pyspark.sql import SparkSession\n",
    "from pyspark.mllib.tree import DecisionTree, DecisionTreeModel\n",
    "from pyspark.ml.feature import VectorAssembler\n",
    "from pyspark.ml.classification import DecisionTreeClassifier\n",
    "from pyspark.ml.tuning import ParamGridBuilder, CrossValidator\n",
    "from pyspark.ml.evaluation import BinaryClassificationEvaluator\n",
    "from pyspark.ml.evaluation import MulticlassClassificationEvaluator\n",
    "from sklearn.metrics import confusion_matrix\n",
    "from pyspark.mllib.evaluation import BinaryClassificationMetrics\n",
    "from time import time\n",
    "import numpy as np\n",
    "spark = SparkSession.builder\\\n",
    "        .master(\"local[14]\")\\\n",
    "        .appName(\"test_avec_14coeur\")\\\n",
    "        .getOrCreate()\n",
    "\n",
    "from pyspark import SparkContext\n",
    "sc = spark.sparkContext.getOrCreate()\n",
    "\n",
    "from pyspark.ml.feature import StringIndexer\n",
    "path=\"adult2.data\"\n",
    "data = spark.read.csv(path, inferSchema=True)\n",
    "new_names=[('_c0','age'),('_c1','workclass'),('_c2','fnlwgt'),('_c3','education'),('_c4','education_num'),('_c5','marital_status'),('_c6','occupation'),('_c7','relationship'),('_c8','race'),('_c9','sex'),('_c10','capital_gain'),('_c11','capital_loss'),('_c12','hours_per_week'),('_c13','native_country'),('_c14','classe')]\n",
    "for old_name,new_name in new_names:\n",
    "    data=data.withColumnRenamed(old_name,new_name)\n",
    "data=data.drop(\"native_country\")\n",
    "from pyspark.ml.feature import StringIndexer\n",
    "workclass_indexer = StringIndexer().setInputCol(\"workclass\").setOutputCol(\"workclass_indexed\")\n",
    "education_indexer = StringIndexer().setInputCol(\"education\").setOutputCol(\"education_indexed\")\n",
    "marital_status_indexer = StringIndexer().setInputCol(\"marital_status\").setOutputCol(\"marital_status_indexed\")\n",
    "occupation_indexer = StringIndexer().setInputCol(\"occupation\").setOutputCol(\"occupation_indexed\")\n",
    "relationship_indexer = StringIndexer().setInputCol(\"relationship\").setOutputCol(\"relationship_indexed\")\n",
    "race_indexer = StringIndexer().setInputCol(\"race\").setOutputCol(\"race_indexed\")\n",
    "sex_indexer = StringIndexer().setInputCol(\"sex\").setOutputCol(\"sex_indexed\")\n",
    "classe_indexer = StringIndexer().setInputCol(\"classe\").setOutputCol(\"classe_indexed\")\n",
    "\n",
    "numCol = [\"age\",'fnlwgt', 'education_num' ]\n",
    "\n",
    "from pyspark.ml.feature import VectorAssembler\n",
    "\n",
    "assembleur = VectorAssembler()\\\n",
    "    .setInputCols(['workclass_indexed','education_indexed','marital_status_indexed','occupation_indexed','relationship_indexed','race_indexed','sex_indexed'] + numCol)\\\n",
    "    .setOutputCol(\"features\")\n",
    "\n",
    "from pyspark.ml import Pipeline\n",
    "\n",
    "#définition du pipeline\n",
    "transformationPipeline = Pipeline()\\\n",
    "                        .setStages([classe_indexer, sex_indexer, race_indexer, relationship_indexer ,occupation_indexer, marital_status_indexer, education_indexer, workclass_indexer,  assembleur])\n",
    "\n",
    "\n",
    "#la fonction fit pour rencenser les valeurs possibles des index pour chaque variable à partir du dataframe \n",
    "fittedPipeline = transformationPipeline.fit(data)\n",
    "\n",
    "#appliquer les résultats de la fonction fit pour transformer le DataFrame en ajoutnat les nouvelles colonnes.\n",
    "#on obtien une nouvelle dataframe\n",
    "transformedTraining = fittedPipeline.transform(data)\n",
    "model_data=transformedTraining.select(\"features\",\"classe_indexed\")"
   ]
  },
  {
   "cell_type": "code",
   "execution_count": 30,
   "id": "6f4249ce",
   "metadata": {},
   "outputs": [],
   "source": [
    "trainingData=model_data.sample(0.7,123)\n",
    "testData=model_data.sample(0.3,123)"
   ]
  },
  {
   "cell_type": "code",
   "execution_count": 31,
   "id": "646f27fa",
   "metadata": {},
   "outputs": [
    {
     "name": "stdout",
     "output_type": "stream",
     "text": [
      "Prediction Accuracy:  DataFrame[features: vector, classe_indexed: double, rawPrediction: vector, probability: vector, prediction: double]\n",
      "Confusion Matrix:\n",
      "[[6850  626]\n",
      " [ 809 1591]]\n",
      "Accuracy: 0.8526970939481168\n",
      "Classifier trained in 39.434 seconds\n"
     ]
    }
   ],
   "source": [
    "time_prediction=[]\n",
    "classifier = DecisionTreeClassifier(labelCol=\"classe_indexed\", featuresCol=\"features\")\n",
    "# add empty parameter grid \n",
    "paramGrid = (ParamGridBuilder()\n",
    "             .addGrid(classifier.maxDepth, [2,5,10,15,20,25]) # max depth parameter \n",
    "             .build())\n",
    "    \n",
    "# create evaluator\n",
    "evaluator = MulticlassClassificationEvaluator(predictionCol=\"prediction\", labelCol=\"classe_indexed\")\n",
    "\n",
    "# create cross validation object\n",
    "crossval = CrossValidator(estimator=classifier,\n",
    "                          estimatorParamMaps=paramGrid,\n",
    "                          evaluator=evaluator,\n",
    "                          numFolds=5) \n",
    "\n",
    "#model_data=model_data.sample(0.1,123)\n",
    "#(trainingData, testData) = model_data.randomSplit([0.7, 0.3])\n",
    "\n",
    "t0 = time()\n",
    "# run cross-validation, and choose the best set of parameters.\n",
    "Model = crossval.fit(trainingData)\n",
    "# make predictions on test data \n",
    "predictions = Model.transform(testData)\n",
    "tt = time() - t0\n",
    "acc = evaluator.evaluate(predictions)\n",
    "print(\"Prediction Accuracy: \", predictions)\n",
    "\n",
    "y_pred=predictions.select(\"prediction\").collect()\n",
    "y_orig=predictions.select(\"classe_indexed\").collect()\n",
    "\n",
    "cm = confusion_matrix(y_orig, y_pred)\n",
    "print(\"Confusion Matrix:\")\n",
    "print(cm)\n",
    "print('Accuracy:', evaluator.evaluate(predictions))\n",
    "print (\"Classifier trained in {} seconds\".format(round(tt,3)))"
   ]
  },
  {
   "cell_type": "markdown",
   "id": "c7a6e072",
   "metadata": {},
   "source": [
    "# 16 coeurs"
   ]
  },
  {
   "cell_type": "code",
   "execution_count": 32,
   "id": "12df65cb",
   "metadata": {},
   "outputs": [],
   "source": [
    "sc.stop()"
   ]
  },
  {
   "cell_type": "code",
   "execution_count": 33,
   "id": "b5c58bc3",
   "metadata": {},
   "outputs": [],
   "source": [
    "import findspark\n",
    "findspark.init() \n",
    "from pyspark.sql import SparkSession\n",
    "from pyspark.mllib.tree import DecisionTree, DecisionTreeModel\n",
    "from pyspark.ml.feature import VectorAssembler\n",
    "from pyspark.ml.classification import DecisionTreeClassifier\n",
    "from pyspark.ml.tuning import ParamGridBuilder, CrossValidator\n",
    "from pyspark.ml.evaluation import BinaryClassificationEvaluator\n",
    "from pyspark.ml.evaluation import MulticlassClassificationEvaluator\n",
    "from sklearn.metrics import confusion_matrix\n",
    "from pyspark.mllib.evaluation import BinaryClassificationMetrics\n",
    "from time import time\n",
    "import numpy as np\n",
    "spark = SparkSession.builder\\\n",
    "        .master(\"local[16]\")\\\n",
    "        .appName(\"test_avec_14coeur\")\\\n",
    "        .getOrCreate()\n",
    "\n",
    "from pyspark import SparkContext\n",
    "sc = spark.sparkContext.getOrCreate()\n",
    "\n",
    "from pyspark.ml.feature import StringIndexer\n",
    "path=\"adult2.data\"\n",
    "data = spark.read.csv(path, inferSchema=True)\n",
    "new_names=[('_c0','age'),('_c1','workclass'),('_c2','fnlwgt'),('_c3','education'),('_c4','education_num'),('_c5','marital_status'),('_c6','occupation'),('_c7','relationship'),('_c8','race'),('_c9','sex'),('_c10','capital_gain'),('_c11','capital_loss'),('_c12','hours_per_week'),('_c13','native_country'),('_c14','classe')]\n",
    "for old_name,new_name in new_names:\n",
    "    data=data.withColumnRenamed(old_name,new_name)\n",
    "data=data.drop(\"native_country\")\n",
    "from pyspark.ml.feature import StringIndexer\n",
    "workclass_indexer = StringIndexer().setInputCol(\"workclass\").setOutputCol(\"workclass_indexed\")\n",
    "education_indexer = StringIndexer().setInputCol(\"education\").setOutputCol(\"education_indexed\")\n",
    "marital_status_indexer = StringIndexer().setInputCol(\"marital_status\").setOutputCol(\"marital_status_indexed\")\n",
    "occupation_indexer = StringIndexer().setInputCol(\"occupation\").setOutputCol(\"occupation_indexed\")\n",
    "relationship_indexer = StringIndexer().setInputCol(\"relationship\").setOutputCol(\"relationship_indexed\")\n",
    "race_indexer = StringIndexer().setInputCol(\"race\").setOutputCol(\"race_indexed\")\n",
    "sex_indexer = StringIndexer().setInputCol(\"sex\").setOutputCol(\"sex_indexed\")\n",
    "classe_indexer = StringIndexer().setInputCol(\"classe\").setOutputCol(\"classe_indexed\")\n",
    "\n",
    "numCol = [\"age\",'fnlwgt', 'education_num' ]\n",
    "\n",
    "from pyspark.ml.feature import VectorAssembler\n",
    "\n",
    "assembleur = VectorAssembler()\\\n",
    "    .setInputCols(['workclass_indexed','education_indexed','marital_status_indexed','occupation_indexed','relationship_indexed','race_indexed','sex_indexed'] + numCol)\\\n",
    "    .setOutputCol(\"features\")\n",
    "\n",
    "from pyspark.ml import Pipeline\n",
    "\n",
    "#définition du pipeline\n",
    "transformationPipeline = Pipeline()\\\n",
    "                        .setStages([classe_indexer, sex_indexer, race_indexer, relationship_indexer ,occupation_indexer, marital_status_indexer, education_indexer, workclass_indexer,  assembleur])\n",
    "\n",
    "\n",
    "#la fonction fit pour rencenser les valeurs possibles des index pour chaque variable à partir du dataframe \n",
    "fittedPipeline = transformationPipeline.fit(data)\n",
    "\n",
    "#appliquer les résultats de la fonction fit pour transformer le DataFrame en ajoutnat les nouvelles colonnes.\n",
    "#on obtien une nouvelle dataframe\n",
    "transformedTraining = fittedPipeline.transform(data)\n",
    "model_data=transformedTraining.select(\"features\",\"classe_indexed\")"
   ]
  },
  {
   "cell_type": "code",
   "execution_count": 34,
   "id": "9f63c147",
   "metadata": {},
   "outputs": [],
   "source": [
    "trainingData=model_data.sample(0.7,123)\n",
    "testData=model_data.sample(0.3,123)"
   ]
  },
  {
   "cell_type": "code",
   "execution_count": 35,
   "id": "a8a350d7",
   "metadata": {},
   "outputs": [
    {
     "name": "stdout",
     "output_type": "stream",
     "text": [
      "Prediction Accuracy:  DataFrame[features: vector, classe_indexed: double, rawPrediction: vector, probability: vector, prediction: double]\n",
      "Confusion Matrix:\n",
      "[[6850  626]\n",
      " [ 809 1591]]\n",
      "Accuracy: 0.8526970939481168\n",
      "Classifier trained in 39.56 seconds\n"
     ]
    }
   ],
   "source": [
    "time_prediction=[]\n",
    "classifier = DecisionTreeClassifier(labelCol=\"classe_indexed\", featuresCol=\"features\")\n",
    "# add empty parameter grid \n",
    "paramGrid = (ParamGridBuilder()\n",
    "             .addGrid(classifier.maxDepth, [2,5,10,15,20,25]) # max depth parameter \n",
    "             .build())\n",
    "    \n",
    "# create evaluator\n",
    "evaluator = MulticlassClassificationEvaluator(predictionCol=\"prediction\", labelCol=\"classe_indexed\")\n",
    "\n",
    "# create cross validation object\n",
    "crossval = CrossValidator(estimator=classifier,\n",
    "                          estimatorParamMaps=paramGrid,\n",
    "                          evaluator=evaluator,\n",
    "                          numFolds=5) \n",
    "\n",
    "#model_data=model_data.sample(0.1,123)\n",
    "#(trainingData, testData) = model_data.randomSplit([0.7, 0.3])\n",
    "\n",
    "t0 = time()\n",
    "# run cross-validation, and choose the best set of parameters.\n",
    "Model = crossval.fit(trainingData)\n",
    "# make predictions on test data \n",
    "predictions = Model.transform(testData)\n",
    "tt = time() - t0\n",
    "acc = evaluator.evaluate(predictions)\n",
    "print(\"Prediction Accuracy: \", predictions)\n",
    "\n",
    "y_pred=predictions.select(\"prediction\").collect()\n",
    "y_orig=predictions.select(\"classe_indexed\").collect()\n",
    "\n",
    "cm = confusion_matrix(y_orig, y_pred)\n",
    "print(\"Confusion Matrix:\")\n",
    "print(cm)\n",
    "print('Accuracy:', evaluator.evaluate(predictions))\n",
    "print (\"Classifier trained in {} seconds\".format(round(tt,3)))"
   ]
  },
  {
   "cell_type": "markdown",
   "id": "cc4d668c",
   "metadata": {},
   "source": [
    "# 18 coeurs"
   ]
  },
  {
   "cell_type": "code",
   "execution_count": 36,
   "id": "3722b8cf",
   "metadata": {},
   "outputs": [],
   "source": [
    "sc.stop()"
   ]
  },
  {
   "cell_type": "code",
   "execution_count": 37,
   "id": "161bc7b3",
   "metadata": {},
   "outputs": [],
   "source": [
    "import findspark\n",
    "findspark.init() \n",
    "from pyspark.sql import SparkSession\n",
    "from pyspark.mllib.tree import DecisionTree, DecisionTreeModel\n",
    "from pyspark.ml.feature import VectorAssembler\n",
    "from pyspark.ml.classification import DecisionTreeClassifier\n",
    "from pyspark.ml.tuning import ParamGridBuilder, CrossValidator\n",
    "from pyspark.ml.evaluation import BinaryClassificationEvaluator\n",
    "from pyspark.ml.evaluation import MulticlassClassificationEvaluator\n",
    "from sklearn.metrics import confusion_matrix\n",
    "from pyspark.mllib.evaluation import BinaryClassificationMetrics\n",
    "from time import time\n",
    "import numpy as np\n",
    "spark = SparkSession.builder\\\n",
    "        .master(\"local[16]\")\\\n",
    "        .appName(\"test_avec_14coeur\")\\\n",
    "        .getOrCreate()\n",
    "\n",
    "from pyspark import SparkContext\n",
    "sc = spark.sparkContext.getOrCreate()\n",
    "\n",
    "from pyspark.ml.feature import StringIndexer\n",
    "path=\"adult2.data\"\n",
    "data = spark.read.csv(path, inferSchema=True)\n",
    "new_names=[('_c0','age'),('_c1','workclass'),('_c2','fnlwgt'),('_c3','education'),('_c4','education_num'),('_c5','marital_status'),('_c6','occupation'),('_c7','relationship'),('_c8','race'),('_c9','sex'),('_c10','capital_gain'),('_c11','capital_loss'),('_c12','hours_per_week'),('_c13','native_country'),('_c14','classe')]\n",
    "for old_name,new_name in new_names:\n",
    "    data=data.withColumnRenamed(old_name,new_name)\n",
    "data=data.drop(\"native_country\")\n",
    "from pyspark.ml.feature import StringIndexer\n",
    "workclass_indexer = StringIndexer().setInputCol(\"workclass\").setOutputCol(\"workclass_indexed\")\n",
    "education_indexer = StringIndexer().setInputCol(\"education\").setOutputCol(\"education_indexed\")\n",
    "marital_status_indexer = StringIndexer().setInputCol(\"marital_status\").setOutputCol(\"marital_status_indexed\")\n",
    "occupation_indexer = StringIndexer().setInputCol(\"occupation\").setOutputCol(\"occupation_indexed\")\n",
    "relationship_indexer = StringIndexer().setInputCol(\"relationship\").setOutputCol(\"relationship_indexed\")\n",
    "race_indexer = StringIndexer().setInputCol(\"race\").setOutputCol(\"race_indexed\")\n",
    "sex_indexer = StringIndexer().setInputCol(\"sex\").setOutputCol(\"sex_indexed\")\n",
    "classe_indexer = StringIndexer().setInputCol(\"classe\").setOutputCol(\"classe_indexed\")\n",
    "\n",
    "numCol = [\"age\",'fnlwgt', 'education_num' ]\n",
    "\n",
    "from pyspark.ml.feature import VectorAssembler\n",
    "\n",
    "assembleur = VectorAssembler()\\\n",
    "    .setInputCols(['workclass_indexed','education_indexed','marital_status_indexed','occupation_indexed','relationship_indexed','race_indexed','sex_indexed'] + numCol)\\\n",
    "    .setOutputCol(\"features\")\n",
    "\n",
    "from pyspark.ml import Pipeline\n",
    "\n",
    "#définition du pipeline\n",
    "transformationPipeline = Pipeline()\\\n",
    "                        .setStages([classe_indexer, sex_indexer, race_indexer, relationship_indexer ,occupation_indexer, marital_status_indexer, education_indexer, workclass_indexer,  assembleur])\n",
    "\n",
    "\n",
    "#la fonction fit pour rencenser les valeurs possibles des index pour chaque variable à partir du dataframe \n",
    "fittedPipeline = transformationPipeline.fit(data)\n",
    "\n",
    "#appliquer les résultats de la fonction fit pour transformer le DataFrame en ajoutnat les nouvelles colonnes.\n",
    "#on obtien une nouvelle dataframe\n",
    "transformedTraining = fittedPipeline.transform(data)\n",
    "model_data=transformedTraining.select(\"features\",\"classe_indexed\")\n",
    "trainingData=model_data.sample(0.7,123)\n",
    "testData=model_data.sample(0.3,123)"
   ]
  },
  {
   "cell_type": "code",
   "execution_count": 38,
   "id": "77b4d17b",
   "metadata": {},
   "outputs": [
    {
     "name": "stdout",
     "output_type": "stream",
     "text": [
      "Prediction Accuracy:  DataFrame[features: vector, classe_indexed: double, rawPrediction: vector, probability: vector, prediction: double]\n",
      "Confusion Matrix:\n",
      "[[6850  626]\n",
      " [ 809 1591]]\n",
      "Accuracy: 0.8526970939481168\n",
      "Classifier trained in 39.519 seconds\n"
     ]
    }
   ],
   "source": [
    "time_prediction=[]\n",
    "classifier = DecisionTreeClassifier(labelCol=\"classe_indexed\", featuresCol=\"features\")\n",
    "# add empty parameter grid \n",
    "paramGrid = (ParamGridBuilder()\n",
    "             .addGrid(classifier.maxDepth, [2,5,10,15,20,25]) # max depth parameter \n",
    "             .build())\n",
    "    \n",
    "# create evaluator\n",
    "evaluator = MulticlassClassificationEvaluator(predictionCol=\"prediction\", labelCol=\"classe_indexed\")\n",
    "\n",
    "# create cross validation object\n",
    "crossval = CrossValidator(estimator=classifier,\n",
    "                          estimatorParamMaps=paramGrid,\n",
    "                          evaluator=evaluator,\n",
    "                          numFolds=5) \n",
    "\n",
    "#model_data=model_data.sample(0.1,123)\n",
    "#(trainingData, testData) = model_data.randomSplit([0.7, 0.3])\n",
    "\n",
    "t0 = time()\n",
    "# run cross-validation, and choose the best set of parameters.\n",
    "Model = crossval.fit(trainingData)\n",
    "# make predictions on test data \n",
    "predictions = Model.transform(testData)\n",
    "tt = time() - t0\n",
    "acc = evaluator.evaluate(predictions)\n",
    "print(\"Prediction Accuracy: \", predictions)\n",
    "\n",
    "y_pred=predictions.select(\"prediction\").collect()\n",
    "y_orig=predictions.select(\"classe_indexed\").collect()\n",
    "\n",
    "cm = confusion_matrix(y_orig, y_pred)\n",
    "print(\"Confusion Matrix:\")\n",
    "print(cm)\n",
    "print('Accuracy:', evaluator.evaluate(predictions))\n",
    "print (\"Classifier trained in {} seconds\".format(round(tt,3)))"
   ]
  },
  {
   "cell_type": "markdown",
   "id": "5ae4ea08",
   "metadata": {},
   "source": [
    "# 20 coeurs"
   ]
  },
  {
   "cell_type": "code",
   "execution_count": 39,
   "id": "56e657d9",
   "metadata": {},
   "outputs": [],
   "source": [
    "sc.stop()"
   ]
  },
  {
   "cell_type": "code",
   "execution_count": 40,
   "id": "3a352124",
   "metadata": {},
   "outputs": [],
   "source": [
    "import findspark\n",
    "findspark.init() \n",
    "from pyspark.sql import SparkSession\n",
    "from pyspark.mllib.tree import DecisionTree, DecisionTreeModel\n",
    "from pyspark.ml.feature import VectorAssembler\n",
    "from pyspark.ml.classification import DecisionTreeClassifier\n",
    "from pyspark.ml.tuning import ParamGridBuilder, CrossValidator\n",
    "from pyspark.ml.evaluation import BinaryClassificationEvaluator\n",
    "from pyspark.ml.evaluation import MulticlassClassificationEvaluator\n",
    "from sklearn.metrics import confusion_matrix\n",
    "from pyspark.mllib.evaluation import BinaryClassificationMetrics\n",
    "from time import time\n",
    "import numpy as np\n",
    "spark = SparkSession.builder\\\n",
    "        .master(\"local[16]\")\\\n",
    "        .appName(\"test_avec_14coeur\")\\\n",
    "        .getOrCreate()\n",
    "\n",
    "from pyspark import SparkContext\n",
    "sc = spark.sparkContext.getOrCreate()\n",
    "\n",
    "from pyspark.ml.feature import StringIndexer\n",
    "path=\"adult2.data\"\n",
    "data = spark.read.csv(path, inferSchema=True)\n",
    "new_names=[('_c0','age'),('_c1','workclass'),('_c2','fnlwgt'),('_c3','education'),('_c4','education_num'),('_c5','marital_status'),('_c6','occupation'),('_c7','relationship'),('_c8','race'),('_c9','sex'),('_c10','capital_gain'),('_c11','capital_loss'),('_c12','hours_per_week'),('_c13','native_country'),('_c14','classe')]\n",
    "for old_name,new_name in new_names:\n",
    "    data=data.withColumnRenamed(old_name,new_name)\n",
    "data=data.drop(\"native_country\")\n",
    "from pyspark.ml.feature import StringIndexer\n",
    "workclass_indexer = StringIndexer().setInputCol(\"workclass\").setOutputCol(\"workclass_indexed\")\n",
    "education_indexer = StringIndexer().setInputCol(\"education\").setOutputCol(\"education_indexed\")\n",
    "marital_status_indexer = StringIndexer().setInputCol(\"marital_status\").setOutputCol(\"marital_status_indexed\")\n",
    "occupation_indexer = StringIndexer().setInputCol(\"occupation\").setOutputCol(\"occupation_indexed\")\n",
    "relationship_indexer = StringIndexer().setInputCol(\"relationship\").setOutputCol(\"relationship_indexed\")\n",
    "race_indexer = StringIndexer().setInputCol(\"race\").setOutputCol(\"race_indexed\")\n",
    "sex_indexer = StringIndexer().setInputCol(\"sex\").setOutputCol(\"sex_indexed\")\n",
    "classe_indexer = StringIndexer().setInputCol(\"classe\").setOutputCol(\"classe_indexed\")\n",
    "\n",
    "numCol = [\"age\",'fnlwgt', 'education_num' ]\n",
    "\n",
    "from pyspark.ml.feature import VectorAssembler\n",
    "\n",
    "assembleur = VectorAssembler()\\\n",
    "    .setInputCols(['workclass_indexed','education_indexed','marital_status_indexed','occupation_indexed','relationship_indexed','race_indexed','sex_indexed'] + numCol)\\\n",
    "    .setOutputCol(\"features\")\n",
    "\n",
    "from pyspark.ml import Pipeline\n",
    "\n",
    "#définition du pipeline\n",
    "transformationPipeline = Pipeline()\\\n",
    "                        .setStages([classe_indexer, sex_indexer, race_indexer, relationship_indexer ,occupation_indexer, marital_status_indexer, education_indexer, workclass_indexer,  assembleur])\n",
    "\n",
    "\n",
    "#la fonction fit pour rencenser les valeurs possibles des index pour chaque variable à partir du dataframe \n",
    "fittedPipeline = transformationPipeline.fit(data)\n",
    "\n",
    "#appliquer les résultats de la fonction fit pour transformer le DataFrame en ajoutnat les nouvelles colonnes.\n",
    "#on obtien une nouvelle dataframe\n",
    "transformedTraining = fittedPipeline.transform(data)\n",
    "model_data=transformedTraining.select(\"features\",\"classe_indexed\")\n",
    "trainingData=model_data.sample(0.7,123)\n",
    "testData=model_data.sample(0.3,123)"
   ]
  },
  {
   "cell_type": "code",
   "execution_count": 41,
   "id": "fcde84cd",
   "metadata": {},
   "outputs": [
    {
     "name": "stdout",
     "output_type": "stream",
     "text": [
      "Prediction Accuracy:  DataFrame[features: vector, classe_indexed: double, rawPrediction: vector, probability: vector, prediction: double]\n",
      "Confusion Matrix:\n",
      "[[6850  626]\n",
      " [ 809 1591]]\n",
      "Accuracy: 0.8526970939481168\n",
      "Classifier trained in 39.462 seconds\n"
     ]
    }
   ],
   "source": [
    "time_prediction=[]\n",
    "classifier = DecisionTreeClassifier(labelCol=\"classe_indexed\", featuresCol=\"features\")\n",
    "# add empty parameter grid \n",
    "paramGrid = (ParamGridBuilder()\n",
    "             .addGrid(classifier.maxDepth, [2,5,10,15,20,25]) # max depth parameter \n",
    "             .build())\n",
    "    \n",
    "# create evaluator\n",
    "evaluator = MulticlassClassificationEvaluator(predictionCol=\"prediction\", labelCol=\"classe_indexed\")\n",
    "\n",
    "# create cross validation object\n",
    "crossval = CrossValidator(estimator=classifier,\n",
    "                          estimatorParamMaps=paramGrid,\n",
    "                          evaluator=evaluator,\n",
    "                          numFolds=5) \n",
    "\n",
    "#model_data=model_data.sample(0.1,123)\n",
    "#(trainingData, testData) = model_data.randomSplit([0.7, 0.3])\n",
    "\n",
    "t0 = time()\n",
    "# run cross-validation, and choose the best set of parameters.\n",
    "Model = crossval.fit(trainingData)\n",
    "# make predictions on test data \n",
    "predictions = Model.transform(testData)\n",
    "tt = time() - t0\n",
    "acc = evaluator.evaluate(predictions)\n",
    "print(\"Prediction Accuracy: \", predictions)\n",
    "\n",
    "y_pred=predictions.select(\"prediction\").collect()\n",
    "y_orig=predictions.select(\"classe_indexed\").collect()\n",
    "\n",
    "cm = confusion_matrix(y_orig, y_pred)\n",
    "print(\"Confusion Matrix:\")\n",
    "print(cm)\n",
    "print('Accuracy:', evaluator.evaluate(predictions))\n",
    "print (\"Classifier trained in {} seconds\".format(round(tt,3)))"
   ]
  },
  {
   "cell_type": "markdown",
   "id": "bc0933fd",
   "metadata": {},
   "source": [
    "# sklearn vs mllib"
   ]
  },
  {
   "cell_type": "code",
   "execution_count": 1,
   "id": "6649235b",
   "metadata": {},
   "outputs": [
    {
     "data": {
      "text/plain": [
       "age                Int64\n",
       "workclass         string\n",
       "fnlwgt             Int64\n",
       "education         string\n",
       "education_num      Int64\n",
       "marital_status    string\n",
       "occupation        string\n",
       "relationship      string\n",
       "race              string\n",
       "sex               string\n",
       "capital_gain       Int64\n",
       "capital_loss       Int64\n",
       "house_per_week     Int64\n",
       "native_country    string\n",
       "classe            string\n",
       "dtype: object"
      ]
     },
     "execution_count": 1,
     "metadata": {},
     "output_type": "execute_result"
    }
   ],
   "source": [
    "import numpy as np\n",
    "from sklearn.model_selection import train_test_split,cross_val_score\n",
    "from sklearn.tree import DecisionTreeClassifier\n",
    "import pandas as pd \n",
    "\n",
    "data=pd.read_csv(\"adult1.data\", nrows=2565805,header=None)\n",
    "data=data.rename(columns={0: \"age\", 1: \"workclass\", 2: \"fnlwgt\",3: \"education\", 4: \"education_num\", 5: \"marital_status\",6: \"occupation\", 7: \"relationship\", 8: \"race\",9: \"sex\",10: \"capital_gain\", 11: \"capital_loss\",12: \"house_per_week\", 13: \"native_country\", 14:\"classe\"})\n",
    "data=data.convert_dtypes()\n",
    "data.dtypes"
   ]
  },
  {
   "cell_type": "code",
   "execution_count": 2,
   "id": "03a8a56f",
   "metadata": {},
   "outputs": [],
   "source": [
    "from sklearn.preprocessing import LabelEncoder\n",
    "le = LabelEncoder()\n",
    "data['workclass']= le.fit_transform(data['workclass']) \n",
    "data['education']= le.fit_transform(data['education']) \n",
    "data['marital_status']= le.fit_transform(data['marital_status']) \n",
    "data['occupation']= le.fit_transform(data['occupation']) \n",
    "data['relationship']= le.fit_transform(data['relationship']) \n",
    "data['race']= le.fit_transform(data['race']) \n",
    "data['classe']= le.fit_transform(data['classe'])  \n",
    "data['sex']= le.fit_transform(data['sex']) "
   ]
  },
  {
   "cell_type": "code",
   "execution_count": 3,
   "id": "0dcdb307",
   "metadata": {},
   "outputs": [],
   "source": [
    "data=data.drop(columns=[\"native_country\"])\n",
    "y=data[\"classe\"]\n",
    "x=data.drop(columns=[\"classe\"])"
   ]
  },
  {
   "cell_type": "code",
   "execution_count": 4,
   "id": "e14519a3",
   "metadata": {},
   "outputs": [
    {
     "name": "stderr",
     "output_type": "stream",
     "text": [
      "C:\\Users\\arthu\\anaconda3\\lib\\site-packages\\sklearn\\model_selection\\_split.py:676: UserWarning: The least populated class in y has only 1 members, which is less than n_splits=5.\n",
      "  warnings.warn(\n",
      "C:\\Users\\arthu\\anaconda3\\lib\\site-packages\\sklearn\\model_selection\\_split.py:676: UserWarning: The least populated class in y has only 1 members, which is less than n_splits=5.\n",
      "  warnings.warn(\n",
      "C:\\Users\\arthu\\anaconda3\\lib\\site-packages\\sklearn\\model_selection\\_split.py:676: UserWarning: The least populated class in y has only 1 members, which is less than n_splits=5.\n",
      "  warnings.warn(\n",
      "C:\\Users\\arthu\\anaconda3\\lib\\site-packages\\sklearn\\model_selection\\_split.py:676: UserWarning: The least populated class in y has only 1 members, which is less than n_splits=5.\n",
      "  warnings.warn(\n",
      "C:\\Users\\arthu\\anaconda3\\lib\\site-packages\\sklearn\\model_selection\\_split.py:676: UserWarning: The least populated class in y has only 1 members, which is less than n_splits=5.\n",
      "  warnings.warn(\n",
      "C:\\Users\\arthu\\anaconda3\\lib\\site-packages\\sklearn\\model_selection\\_split.py:676: UserWarning: The least populated class in y has only 1 members, which is less than n_splits=5.\n",
      "  warnings.warn(\n"
     ]
    },
    {
     "name": "stdout",
     "output_type": "stream",
     "text": [
      "Classifier trained in 136.432 seconds\n",
      "scrore 0.9826308995478046\n"
     ]
    }
   ],
   "source": [
    "#model=DecisionTreeClassifier()\n",
    "#model.fit(x,y)\n",
    "#model.score(x,y)\n",
    "#model.predict(x)\n",
    "from time import time\n",
    "t0 = time()\n",
    "test=[]\n",
    "X_train, X_test, y_train, y_test = train_test_split(x,y,test_size=0.3, random_state=0)\n",
    "for depth in [2,5,10,15,20,25]:\n",
    "    model= DecisionTreeClassifier(max_depth=depth)\n",
    "    score=cross_val_score(model,X_train,y_train,cv=5, scoring='accuracy').mean()\n",
    "    test.append(test)\n",
    "tt = time() - t0\n",
    "print (\"Classifier trained in {} seconds\".format(round(tt,3)))\n",
    "print(\"scrore\",score)"
   ]
  },
  {
   "cell_type": "code",
   "execution_count": null,
   "id": "c8092349",
   "metadata": {},
   "outputs": [],
   "source": []
  },
  {
   "cell_type": "code",
   "execution_count": 6,
   "id": "77745308",
   "metadata": {},
   "outputs": [],
   "source": [
    "import findspark\n",
    "findspark.init() \n",
    "from pyspark.sql import SparkSession\n",
    "from pyspark.mllib.tree import DecisionTree, DecisionTreeModel\n",
    "from pyspark.ml.feature import VectorAssembler\n",
    "from pyspark.ml.classification import DecisionTreeClassifier\n",
    "from pyspark.ml.tuning import ParamGridBuilder, CrossValidator\n",
    "from pyspark.ml.evaluation import BinaryClassificationEvaluator\n",
    "from pyspark.ml.evaluation import MulticlassClassificationEvaluator\n",
    "from sklearn.metrics import confusion_matrix\n",
    "from pyspark.mllib.evaluation import BinaryClassificationMetrics\n",
    "from time import time\n",
    "import numpy as np\n",
    "spark = SparkSession.builder\\\n",
    "        .master(\"local[*]\")\\\n",
    "        .appName(\"test_avec_14coeur\")\\\n",
    "        .getOrCreate()\n",
    "\n",
    "from pyspark import SparkContext\n",
    "sc = spark.sparkContext.getOrCreate()\n",
    "\n",
    "from pyspark.ml.feature import StringIndexer\n",
    "path=\"adult2.data\"\n",
    "data = spark.read.csv(path, inferSchema=True)\n",
    "new_names=[('_c0','age'),('_c1','workclass'),('_c2','fnlwgt'),('_c3','education'),('_c4','education_num'),('_c5','marital_status'),('_c6','occupation'),('_c7','relationship'),('_c8','race'),('_c9','sex'),('_c10','capital_gain'),('_c11','capital_loss'),('_c12','hours_per_week'),('_c13','native_country'),('_c14','classe')]\n",
    "for old_name,new_name in new_names:\n",
    "    data=data.withColumnRenamed(old_name,new_name)\n",
    "data=data.drop(\"native_country\")\n",
    "from pyspark.ml.feature import StringIndexer\n",
    "workclass_indexer = StringIndexer().setInputCol(\"workclass\").setOutputCol(\"workclass_indexed\")\n",
    "education_indexer = StringIndexer().setInputCol(\"education\").setOutputCol(\"education_indexed\")\n",
    "marital_status_indexer = StringIndexer().setInputCol(\"marital_status\").setOutputCol(\"marital_status_indexed\")\n",
    "occupation_indexer = StringIndexer().setInputCol(\"occupation\").setOutputCol(\"occupation_indexed\")\n",
    "relationship_indexer = StringIndexer().setInputCol(\"relationship\").setOutputCol(\"relationship_indexed\")\n",
    "race_indexer = StringIndexer().setInputCol(\"race\").setOutputCol(\"race_indexed\")\n",
    "sex_indexer = StringIndexer().setInputCol(\"sex\").setOutputCol(\"sex_indexed\")\n",
    "classe_indexer = StringIndexer().setInputCol(\"classe\").setOutputCol(\"classe_indexed\")\n",
    "\n",
    "numCol = [\"age\",'fnlwgt', 'education_num' ]\n",
    "\n",
    "from pyspark.ml.feature import VectorAssembler\n",
    "\n",
    "assembleur = VectorAssembler()\\\n",
    "    .setInputCols(['workclass_indexed','education_indexed','marital_status_indexed','occupation_indexed','relationship_indexed','race_indexed','sex_indexed'] + numCol)\\\n",
    "    .setOutputCol(\"features\")\n",
    "\n",
    "from pyspark.ml import Pipeline\n",
    "\n",
    "#définition du pipeline\n",
    "transformationPipeline = Pipeline()\\\n",
    "                        .setStages([classe_indexer, sex_indexer, race_indexer, relationship_indexer ,occupation_indexer, marital_status_indexer, education_indexer, workclass_indexer,  assembleur])\n",
    "\n",
    "\n",
    "#la fonction fit pour rencenser les valeurs possibles des index pour chaque variable à partir du dataframe \n",
    "fittedPipeline = transformationPipeline.fit(data)\n",
    "\n",
    "#appliquer les résultats de la fonction fit pour transformer le DataFrame en ajoutnat les nouvelles colonnes.\n",
    "#on obtien une nouvelle dataframe\n",
    "transformedTraining = fittedPipeline.transform(data)\n",
    "model_data=transformedTraining.select(\"features\",\"classe_indexed\")\n",
    "trainingData=model_data.sample(0.7,123)\n",
    "testData=model_data.sample(0.3,123)"
   ]
  },
  {
   "cell_type": "code",
   "execution_count": 7,
   "id": "a034260b",
   "metadata": {},
   "outputs": [
    {
     "name": "stdout",
     "output_type": "stream",
     "text": [
      "Prediction Accuracy:  DataFrame[features: vector, classe_indexed: double, rawPrediction: vector, probability: vector, prediction: double]\n",
      "Confusion Matrix:\n",
      "[[6996  459]\n",
      " [ 979 1426]]\n",
      "Accuracy: 0.8477767955604787\n",
      "Classifier trained in 41.315 seconds\n"
     ]
    }
   ],
   "source": [
    "time_prediction=[]\n",
    "classifier = DecisionTreeClassifier(labelCol=\"classe_indexed\", featuresCol=\"features\")\n",
    "# add empty parameter grid \n",
    "paramGrid = (ParamGridBuilder()\n",
    "             .addGrid(classifier.maxDepth, [2,5,10,15,20,25]) # max depth parameter \n",
    "             .build())\n",
    "    \n",
    "# create evaluator\n",
    "evaluator = MulticlassClassificationEvaluator(predictionCol=\"prediction\", labelCol=\"classe_indexed\")\n",
    "\n",
    "# create cross validation object\n",
    "crossval = CrossValidator(estimator=classifier,\n",
    "                          estimatorParamMaps=paramGrid,\n",
    "                          evaluator=evaluator,\n",
    "                          numFolds=5) \n",
    "\n",
    "#model_data=model_data.sample(0.1,123)\n",
    "#(trainingData, testData) = model_data.randomSplit([0.7, 0.3])\n",
    "\n",
    "t0 = time()\n",
    "# run cross-validation, and choose the best set of parameters.\n",
    "Model = crossval.fit(trainingData)\n",
    "tt = time() - t0\n",
    "# make predictions on test data \n",
    "predictions = Model.transform(testData)\n",
    "\n",
    "acc = evaluator.evaluate(predictions)\n",
    "print(\"Prediction Accuracy: \", predictions)\n",
    "\n",
    "y_pred=predictions.select(\"prediction\").collect()\n",
    "y_orig=predictions.select(\"classe_indexed\").collect()\n",
    "\n",
    "cm = confusion_matrix(y_orig, y_pred)\n",
    "print(\"Confusion Matrix:\")\n",
    "print(cm)\n",
    "print('Accuracy:', evaluator.evaluate(predictions))\n",
    "print (\"Classifier trained in {} seconds\".format(round(tt,3)))"
   ]
  },
  {
   "cell_type": "code",
   "execution_count": null,
   "id": "08e78a76",
   "metadata": {},
   "outputs": [],
   "source": []
  }
 ],
 "metadata": {
  "kernelspec": {
   "display_name": "Python 3 (ipykernel)",
   "language": "python",
   "name": "python3"
  },
  "language_info": {
   "codemirror_mode": {
    "name": "ipython",
    "version": 3
   },
   "file_extension": ".py",
   "mimetype": "text/x-python",
   "name": "python",
   "nbconvert_exporter": "python",
   "pygments_lexer": "ipython3",
   "version": "3.9.12"
  }
 },
 "nbformat": 4,
 "nbformat_minor": 5
}
